{
 "cells": [
  {
   "cell_type": "markdown",
   "metadata": {},
   "source": [
    "# Installing Anaconda"
   ]
  },
  {
   "cell_type": "markdown",
   "metadata": {},
   "source": [
    "This is already installed on the lab computers for you.\n",
    "\n",
    "If you want to install it on your laptop or home computer the easiest way to get access to Jupyter notebooks is to install Anaconda. \n",
    "\n",
    "Anaconda is a big package of software that is specifically aimed towards scientific or data analysis. You can find the download link at https://www.anaconda.com/download/. Just follow the prompts to install it. You will want the Python 3.6 version probably for 64 bit.\n",
    "\n",
    "Like any software, Python can be a bit troublesome to install and manage, especially when you look at more advanced uses. Using Anaconda will help you keep your install clean and minimise any issues with software dependency clashes."
   ]
  },
  {
   "cell_type": "markdown",
   "metadata": {},
   "source": [
    "## Using Jupyter Notebooks\n",
    "\n",
    "You can access the shortcut menu for Jupyter by clicking help - keyboard shortcuts.\\\n",
    "This will help you write code with less effort. You can also access the Python reference documentation here too. Give it a try."
   ]
  },
  {
   "cell_type": "code",
   "execution_count": 2,
   "metadata": {},
   "outputs": [
    {
     "name": "stdout",
     "output_type": "stream",
     "text": [
      "Meegan Gower my age is 99\n"
     ]
    }
   ],
   "source": [
    "first_name = \"Meegan\"\n",
    "last_name = \"Gower\"\n",
    "age = 99\n",
    "\n",
    "first_name + last_name\n",
    "\n",
    "print(first_name, last_name, \"my age is\", age)"
   ]
  },
  {
   "cell_type": "markdown",
   "metadata": {
    "collapsed": true
   },
   "source": [
    "## Basic Programming\n",
    "\n",
    "Here we will look at some basics of programming, namely \n",
    " - mathematical operators\n",
    " - logical operators\n",
    " - simple input and output\n",
    " - data types\n",
    "\n",
    "Mathematical operators are simple:\n",
    "\n",
    "\n",
    "\n",
    "addition: `x + y`\n",
    "\n",
    "subtraction `x - y`\n",
    "\n",
    "multiplication `x * y`\n",
    "\n",
    "division `x / y`\n",
    "\n",
    "integer division `x // y`\n",
    "\n",
    "modulus or remainder `x % y`\n",
    "\n",
    "power `x ** y`\n",
    "\n",
    "There are tons more mathematical operations (just as a scientific calculator has) that can be accessed via the **math** library. `import math`\n"
   ]
  },
  {
   "cell_type": "code",
   "execution_count": 15,
   "metadata": {},
   "outputs": [
    {
     "name": "stdout",
     "output_type": "stream",
     "text": [
      "<class 'int'>\n",
      "<class 'float'>\n",
      "Addition:  30.869999999999997\n",
      "Subtration:  13.13\n",
      "Multiplication:  195.14\n",
      "Division:  2.4802705749718155\n",
      "Integer Division:  2.0\n",
      "Modulus:  4.260000000000002\n",
      "Power:  807772713956.3335\n",
      "\n",
      "Log:  3.091042453358316\n",
      "1.75\n"
     ]
    }
   ],
   "source": [
    "import math\n",
    "\n",
    "x = 22\n",
    "float_x = 22.0\n",
    "\n",
    "z = 7/4\n",
    "\n",
    "\n",
    "print(type(x))\n",
    "print(type(float_x))\n",
    "\n",
    "y = 8.87\n",
    "\n",
    "print('Addition: ', x + y)\n",
    "print('Subtration: ', x - y)\n",
    "print('Multiplication: ', x * y)\n",
    "print('Division: ', x / y)\n",
    "print('Integer Division: ', x // y)\n",
    "print('Modulus: ', x % y)\n",
    "print('Power: ', x ** y)\n",
    "\n",
    "print('\\nLog: ', math.log(x))\n",
    "\n",
    "print(z)\n"
   ]
  },
  {
   "cell_type": "markdown",
   "metadata": {},
   "source": [
    "Python uses standard mathematical evaluation precedence - multiplication takes precedence over subtraction. You can ensure that an operation is done the way you intend it by using brackets. From Swiegart's Book:\n",
    "\n",
    "> The order of operations (also called precedence) of Python math operators is similar to that of mathematics. The ** operator is evaluated first; the *, /, //, and % operators are evaluated next, from left to right; and the + and - operators are evaluated last (also from left to right). You can use parentheses to override the usual precedence if you need to."
   ]
  },
  {
   "cell_type": "code",
   "execution_count": 16,
   "metadata": {},
   "outputs": [
    {
     "data": {
      "text/plain": [
       "23"
      ]
     },
     "execution_count": 16,
     "metadata": {},
     "output_type": "execute_result"
    }
   ],
   "source": [
    "20 + 1 * 3"
   ]
  },
  {
   "cell_type": "code",
   "execution_count": 17,
   "metadata": {},
   "outputs": [
    {
     "data": {
      "text/plain": [
       "63"
      ]
     },
     "execution_count": 17,
     "metadata": {},
     "output_type": "execute_result"
    }
   ],
   "source": [
    "(20 + 1) * 3"
   ]
  },
  {
   "cell_type": "markdown",
   "metadata": {},
   "source": [
    "***"
   ]
  },
  {
   "cell_type": "markdown",
   "metadata": {},
   "source": [
    "# Exercise 1\n",
    "\n",
    "Before starting, make a copy of this file and save it as \n",
    "> TUD_PROG9000w01_First-initial_Surname\n",
    "\n",
    "If we wanted to perform some more complicated procedure, we can build the process from these blocks. For example, to get the distance between two points A and B with co-ordinates (1,2) and (3,4) respectively, we can use the formula for the Euclidean distance:\n",
    "$$ d = \\sqrt{(x_2 - x_1)^2 + (y_2 - y_1)^2} $$\n",
    "\n",
    "\n",
    "Give this a try now. The answer you need to get is 2.8284271247461903\n",
    "\n",
    "Steps in doing this:\n",
    " - assign values to variables `x1 = 1` etc.\n",
    " \n",
    " - write the formula starting with the inside and working out\n",
    " \n",
    " - run the piece of code (click run button or ctrl-enter)\n",
    " \n",
    " I've helped you out by filling out some of the code."
   ]
  },
  {
   "cell_type": "code",
   "execution_count": 19,
   "metadata": {},
   "outputs": [
    {
     "name": "stdout",
     "output_type": "stream",
     "text": [
      "5.0\n"
     ]
    }
   ],
   "source": [
    "# assign values to variables\n",
    "x1 = 0\n",
    "x2 = 4\n",
    "y1 = 0\n",
    "y2 = 3\n",
    "\n",
    "# write formula\n",
    "d = ((x2 - x1)**2 + (y2 - y1)**2)**0.5\n",
    "\n",
    "# output the answer \n",
    "# note we convert the numeric d to a string before \n",
    "# output with the str() function\n",
    "\n",
    "print(str(d))"
   ]
  },
  {
   "cell_type": "markdown",
   "metadata": {},
   "source": [
    "***"
   ]
  },
  {
   "cell_type": "markdown",
   "metadata": {},
   "source": [
    "## Input and Output:\n",
    "\n",
    "To get some user input, use the `input()` function.\n",
    "\n",
    "To generate a simple output, use `print()` function.\n",
    "\n",
    "More detail here: https://docs.python.org/3.6/tutorial/inputoutput.html?highlight=input"
   ]
  },
  {
   "cell_type": "code",
   "execution_count": 2,
   "metadata": {},
   "outputs": [
    {
     "name": "stdout",
     "output_type": "stream",
     "text": [
      "Please type in your name Meegan\n",
      "Username: Meegan\n"
     ]
    }
   ],
   "source": [
    "username = input(\"Please type in your name \")\n",
    "print(\"Username:\",username)"
   ]
  },
  {
   "cell_type": "markdown",
   "metadata": {},
   "source": [
    "***"
   ]
  },
  {
   "cell_type": "markdown",
   "metadata": {},
   "source": [
    "## Data Types\n",
    "\n",
    "Like most programming languages, Python stores data in different ways depending on the type of the data. For example, storing something as a `numeric` type means that it can have mathematical operations performed on it. Or if it is of `string` type, it can have operations performed on it that are specific to words and characters. Python will automatically assign the value to a variable which is of the appropriate type. For instance, in the cell below, 4 gets assigned to an int type - it is obviously an integer. A foating point number is just another represention of a number, with a slightly different structure. This is done to help with memory use."
   ]
  },
  {
   "cell_type": "markdown",
   "metadata": {},
   "source": [
    "### Numbers"
   ]
  },
  {
   "cell_type": "code",
   "execution_count": 22,
   "metadata": {},
   "outputs": [
    {
     "name": "stdout",
     "output_type": "stream",
     "text": [
      "<class 'int'>\n",
      "<class 'float'>\n",
      "<class 'float'>\n"
     ]
    }
   ],
   "source": [
    "a_number = 4\n",
    "\n",
    "print(type(a_number))\n",
    "\n",
    "a_number**2\n",
    "\n",
    "another_number = 4.0\n",
    "\n",
    "print(type(another_number))\n",
    "\n",
    "x = a_number / another_number\n",
    "\n",
    "print(type(x))"
   ]
  },
  {
   "cell_type": "code",
   "execution_count": 24,
   "metadata": {},
   "outputs": [
    {
     "name": "stdout",
     "output_type": "stream",
     "text": [
      "<class 'float'>\n"
     ]
    }
   ],
   "source": [
    "x = a_number / another_number\n",
    "\n",
    "print(type(x))"
   ]
  },
  {
   "cell_type": "markdown",
   "metadata": {},
   "source": [
    "### Strings"
   ]
  },
  {
   "cell_type": "markdown",
   "metadata": {},
   "source": [
    "Let's look at some strings. "
   ]
  },
  {
   "cell_type": "code",
   "execution_count": 4,
   "metadata": {},
   "outputs": [
    {
     "name": "stdout",
     "output_type": "stream",
     "text": [
      "<class 'str'>\n",
      "hello world\n"
     ]
    }
   ],
   "source": [
    "a_word = \"Hello World\"\n",
    "another_word = \"Spam and Eggs\"\n",
    "a_numeral = \"4\"\n",
    "\n",
    "print(type(a_word))\n",
    "\n",
    "print(a_word.lower())"
   ]
  },
  {
   "cell_type": "markdown",
   "metadata": {},
   "source": [
    "Some numeric operations work, but not the way you might think....."
   ]
  },
  {
   "cell_type": "code",
   "execution_count": 5,
   "metadata": {},
   "outputs": [
    {
     "data": {
      "text/plain": [
       "'Hello WorldSpam and Eggs'"
      ]
     },
     "execution_count": 5,
     "metadata": {},
     "output_type": "execute_result"
    }
   ],
   "source": [
    "a_word + another_word"
   ]
  },
  {
   "cell_type": "markdown",
   "metadata": {},
   "source": [
    "Some don't work and will give an error. You will get used to this, and the error message will give you some information you need to fix the problem. If you can't figure it out.... google it!"
   ]
  },
  {
   "cell_type": "code",
   "execution_count": 6,
   "metadata": {},
   "outputs": [
    {
     "ename": "TypeError",
     "evalue": "unsupported operand type(s) for ** or pow(): 'str' and 'int'",
     "output_type": "error",
     "traceback": [
      "\u001b[1;31m---------------------------------------------------------------------------\u001b[0m",
      "\u001b[1;31mTypeError\u001b[0m                                 Traceback (most recent call last)",
      "\u001b[1;32m<ipython-input-6-2d1701b89a18>\u001b[0m in \u001b[0;36m<module>\u001b[1;34m\u001b[0m\n\u001b[1;32m----> 1\u001b[1;33m \u001b[0ma_word\u001b[0m\u001b[1;33m**\u001b[0m\u001b[1;36m2\u001b[0m\u001b[1;33m\u001b[0m\u001b[1;33m\u001b[0m\u001b[0m\n\u001b[0m",
      "\u001b[1;31mTypeError\u001b[0m: unsupported operand type(s) for ** or pow(): 'str' and 'int'"
     ]
    }
   ],
   "source": [
    "a_word**2"
   ]
  },
  {
   "cell_type": "code",
   "execution_count": 7,
   "metadata": {},
   "outputs": [
    {
     "ename": "TypeError",
     "evalue": "unsupported operand type(s) for ** or pow(): 'str' and 'int'",
     "output_type": "error",
     "traceback": [
      "\u001b[1;31m---------------------------------------------------------------------------\u001b[0m",
      "\u001b[1;31mTypeError\u001b[0m                                 Traceback (most recent call last)",
      "\u001b[1;32m<ipython-input-7-b4fb4b688849>\u001b[0m in \u001b[0;36m<module>\u001b[1;34m\u001b[0m\n\u001b[1;32m----> 1\u001b[1;33m \u001b[0ma_numeral\u001b[0m \u001b[1;33m**\u001b[0m \u001b[1;36m2\u001b[0m\u001b[1;33m\u001b[0m\u001b[1;33m\u001b[0m\u001b[0m\n\u001b[0m",
      "\u001b[1;31mTypeError\u001b[0m: unsupported operand type(s) for ** or pow(): 'str' and 'int'"
     ]
    }
   ],
   "source": [
    "a_numeral ** 2"
   ]
  },
  {
   "cell_type": "code",
   "execution_count": 8,
   "metadata": {},
   "outputs": [
    {
     "ename": "NameError",
     "evalue": "name 'a_number' is not defined",
     "output_type": "error",
     "traceback": [
      "\u001b[1;31m---------------------------------------------------------------------------\u001b[0m",
      "\u001b[1;31mNameError\u001b[0m                                 Traceback (most recent call last)",
      "\u001b[1;32m<ipython-input-8-5c6c6a00956c>\u001b[0m in \u001b[0;36m<module>\u001b[1;34m\u001b[0m\n\u001b[1;32m----> 1\u001b[1;33m \u001b[0ma_number\u001b[0m\u001b[1;33m.\u001b[0m\u001b[0mlower\u001b[0m\u001b[1;33m(\u001b[0m\u001b[1;33m)\u001b[0m\u001b[1;33m\u001b[0m\u001b[1;33m\u001b[0m\u001b[0m\n\u001b[0m",
      "\u001b[1;31mNameError\u001b[0m: name 'a_number' is not defined"
     ]
    }
   ],
   "source": [
    "a_number.lower()"
   ]
  },
  {
   "cell_type": "markdown",
   "metadata": {},
   "source": [
    "### Booleans"
   ]
  },
  {
   "cell_type": "markdown",
   "metadata": {},
   "source": [
    "Booleans: there are only two of these - True and False."
   ]
  },
  {
   "cell_type": "code",
   "execution_count": 9,
   "metadata": {},
   "outputs": [
    {
     "ename": "NameError",
     "evalue": "name 'a_number' is not defined",
     "output_type": "error",
     "traceback": [
      "\u001b[1;31m---------------------------------------------------------------------------\u001b[0m",
      "\u001b[1;31mNameError\u001b[0m                                 Traceback (most recent call last)",
      "\u001b[1;32m<ipython-input-9-c56bf43aa6dc>\u001b[0m in \u001b[0;36m<module>\u001b[1;34m\u001b[0m\n\u001b[0;32m      4\u001b[0m \u001b[1;31m#print(a_condition != False)\u001b[0m\u001b[1;33m\u001b[0m\u001b[1;33m\u001b[0m\u001b[1;33m\u001b[0m\u001b[0m\n\u001b[0;32m      5\u001b[0m \u001b[1;33m\u001b[0m\u001b[0m\n\u001b[1;32m----> 6\u001b[1;33m \u001b[0mprint\u001b[0m\u001b[1;33m(\u001b[0m\u001b[0ma_number\u001b[0m \u001b[1;33m==\u001b[0m \u001b[1;36m4\u001b[0m\u001b[1;33m)\u001b[0m\u001b[1;33m\u001b[0m\u001b[1;33m\u001b[0m\u001b[0m\n\u001b[0m\u001b[0;32m      7\u001b[0m \u001b[0mprint\u001b[0m\u001b[1;33m(\u001b[0m\u001b[0ma_number\u001b[0m \u001b[1;33m!=\u001b[0m \u001b[1;36m4\u001b[0m\u001b[1;33m)\u001b[0m\u001b[1;33m\u001b[0m\u001b[1;33m\u001b[0m\u001b[0m\n\u001b[0;32m      8\u001b[0m \u001b[0mprint\u001b[0m\u001b[1;33m(\u001b[0m\u001b[0ma_number\u001b[0m \u001b[1;33m<=\u001b[0m \u001b[1;36m5\u001b[0m\u001b[1;33m)\u001b[0m\u001b[1;33m\u001b[0m\u001b[1;33m\u001b[0m\u001b[0m\n",
      "\u001b[1;31mNameError\u001b[0m: name 'a_number' is not defined"
     ]
    }
   ],
   "source": [
    "#a_condition = True\n",
    "\n",
    "#print(a_condition)\n",
    "#print(a_condition != False)\n",
    "\n",
    "print(a_number == 4)\n",
    "print(a_number != 4)\n",
    "print(a_number <= 5)\n",
    "print(a_number <= 3)"
   ]
  },
  {
   "cell_type": "markdown",
   "metadata": {},
   "source": [
    "### Logical Statements"
   ]
  },
  {
   "cell_type": "markdown",
   "metadata": {},
   "source": [
    "A key part of programming is logic. We can check if a condition is met, and if it is, do one process. If it is not met, we do another..\n",
    "\n",
    "There are eight comparison operations in Python. They all have the same priority (which is higher than that of the Boolean operations). https://docs.python.org/3.6/library/stdtypes.html#comparisons\n",
    "\n"
   ]
  },
  {
   "cell_type": "markdown",
   "metadata": {},
   "source": [
    "This table summarizes the comparison operations:\n",
    "\n",
    "| Operation | Meaning |\n",
    "| --------- | ------- |\n",
    "| < | strictly less than |\n",
    "| <= | less than or equal |\n",
    "| >\t| strictly greater than |\n",
    "| >= | greater than or equal |\n",
    "| == | equal |\n",
    "| != | not equal |\n",
    "| is | object identity |\n",
    "| is not | negated object identity |"
   ]
  },
  {
   "cell_type": "code",
   "execution_count": 13,
   "metadata": {},
   "outputs": [
    {
     "name": "stdout",
     "output_type": "stream",
     "text": [
      "False\n",
      "True\n",
      "True\n",
      "True\n"
     ]
    }
   ],
   "source": [
    "x = 3\n",
    "y = 6\n",
    "z = 6.0\n",
    "\n",
    "print(x > y)\n",
    "\n",
    "print(x < y)\n",
    "\n",
    "print(y <= z)\n",
    "\n",
    "print(y == z)"
   ]
  },
  {
   "cell_type": "markdown",
   "metadata": {},
   "source": [
    "`if` statements are used as control operators. They evaluate a condition and execute if it's true, or `else` do something else if it's not. Note the syntax.\n",
    "\n"
   ]
  },
  {
   "cell_type": "markdown",
   "metadata": {},
   "source": [
    "if condition:\\\n",
    "$\\;\\;\\;\\;\\;\\;$ do_this\\\n",
    "else:\\\n",
    "$\\;\\;\\;\\;\\;\\;$ do_that"
   ]
  },
  {
   "cell_type": "code",
   "execution_count": 14,
   "metadata": {},
   "outputs": [
    {
     "name": "stdout",
     "output_type": "stream",
     "text": [
      "Sorry that was a joke\n"
     ]
    }
   ],
   "source": [
    "if 2 > x:\n",
    "    print(\"Class is over - you've all passed\")\n",
    "else:\n",
    "    print(\"Sorry that was a joke\")"
   ]
  },
  {
   "cell_type": "markdown",
   "metadata": {},
   "source": [
    "#### There a few more logical operators:\n",
    " - `and`  \n",
    "    this is used to combine several logical statements into one. Both must evaluate as true for the whole condition to be true.\n",
    " \n",
    " - `or`  \n",
    "    this is also used to combine several statements into one, but in this case any of the statements being true will allow the whole condition to be true.\n",
    " \n",
    " - `not`\n",
    "    this negates a logical statement, and means code can be simpler to read. "
   ]
  },
  {
   "cell_type": "markdown",
   "metadata": {},
   "source": [
    "#### pseudocode for determining eligibility to vote in DIT Student Union Election\n",
    "\n",
    "if is_student_of_DIT:\\\n",
    "$\\;\\;\\;\\;\\;\\;$ can_vote = True\n",
    "    \n",
    "#### pseudocode for determining eligibility to vote in Irish Parliamentary Election\n",
    "\n",
    "if is_citizen_of_Ireland and is_over_18:\\\n",
    "$\\;\\;\\;\\;\\;\\;$ can_vote = True\n",
    "    \n",
    "#### pseudocode for determining eligibility to vote in European Parliamentary Election\n",
    "\n",
    "if (is_citizen_of_Ireland or is_citizen_of_France) and is_over_18:\\\n",
    "$\\;\\;\\;\\;\\;\\;$ can_vote = True\n",
    "    "
   ]
  },
  {
   "cell_type": "markdown",
   "metadata": {},
   "source": [
    "# Exercise 2\n",
    "Let's write a simple program to output the number of days in each month. I've put most of the code in, you fill in the rest."
   ]
  },
  {
   "cell_type": "code",
   "execution_count": null,
   "metadata": {},
   "outputs": [],
   "source": [
    "month = input(\"Please enter the numeric value of the month - eg 4 for April\")"
   ]
  },
  {
   "cell_type": "code",
   "execution_count": 54,
   "metadata": {},
   "outputs": [],
   "source": [
    "if (month == 2):\n",
    "    print(\"28 or sometimes 29\")\n",
    "elif month == 9:\n",
    "    print(\"30\")\n",
    "elif month == 4:\n",
    "    print(\"30\")\n",
    "elif month == 6:\n",
    "    print(\"30\")\n",
    "elif month == 11:\n",
    "    print(\"30\")\n",
    "#else:\n",
    "#   ___________"
   ]
  },
  {
   "cell_type": "markdown",
   "metadata": {},
   "source": [
    "#### Note:\n",
    "\n",
    "A nice way to visualise your code is via http://www.pythontutor.com/visualize.html#mode=edit\n",
    "\n",
    "Type in your code here and you can see what's happening. Really useful when there's a complex flow or structure going on."
   ]
  },
  {
   "cell_type": "markdown",
   "metadata": {},
   "source": [
    "***"
   ]
  },
  {
   "cell_type": "markdown",
   "metadata": {},
   "source": [
    "## Debugging quick note"
   ]
  },
  {
   "cell_type": "markdown",
   "metadata": {},
   "source": [
    "### Syntax errors\n",
    "Python can only execute a program if the syntax is correct; otherwise, the interpreter displays an error message. Syntax refers to the structure of a program and the rules about that structure.  \n",
    " \n",
    "### Runtime errors\n",
    "Error that does not appear until after the program has started running. These errors are also called exceptions because they usually indicate that something exceptional (and bad) has happened.\n",
    " \n",
    "### Semantic errors\n",
    "The third type of error is the semantic error. If there is a semantic error in your program, it will run successfully in the sense that the computer will not generate any error messages, but it will not do the right thing. \n"
   ]
  },
  {
   "cell_type": "markdown",
   "metadata": {},
   "source": [
    "***"
   ]
  },
  {
   "cell_type": "markdown",
   "metadata": {},
   "source": [
    "## In Conclusion"
   ]
  },
  {
   "cell_type": "markdown",
   "metadata": {},
   "source": [
    "By now your heads are melted. \n",
    "\n",
    "It's a lot to remember. \n",
    "\n",
    "But...\n",
    "\n",
    "... you don't need to remember all of this!\n",
    "\n",
    "There are lots of good resources out there - here's a link to a page with lots of links\n",
    "http://mfranzen.ca/pages/cor/tej4m1_u4.html\n",
    "\n",
    "Print this cheatsheet out and laminate it - it will be a great help. Also bookmark it. \n",
    "https://perso.limsi.fr/pointal/_media/python:cours:mementopython3-v1.2.2-english.pdf\n",
    "\n",
    "A lot of it won't make sense right now, but it will help you quickly look up something you need.\n",
    "\n",
    "We will go over the core concepts at the end of the course again, and things should hopefully be much clearer."
   ]
  },
  {
   "cell_type": "markdown",
   "metadata": {},
   "source": [
    "***"
   ]
  },
  {
   "cell_type": "markdown",
   "metadata": {},
   "source": [
    "## Further Exercises"
   ]
  },
  {
   "cell_type": "markdown",
   "metadata": {},
   "source": [
    "Let's write a few simple programs.\n",
    "\n",
    " - Geometry\n",
    "     - calculate the volume of a sphere with radius 20mm.  \n",
    "        - Formula for sphere volume is $$ 4/3.\\Pi.r^3$$  \n",
    "        - Output the result with a nice message.\n",
    "     - allow the user to enter a radius for the above program and output the result.\n",
    "     - calculate the volume of a cylinder, allowing the user to input the height and radius, and then print the output with a nice message.\n",
    "     - calculate the volume of a cone, allowing the user to input the height and radius, and then print the output with a nice message.\n",
    " \n",
    " (Do nice outputs for all the below also...)\n",
    " - calculate the fuel efficiency achieved on a journey, allowing the user to input the distance travelled and the amount of fuel used.\n",
    " \n",
    " - Currency Exchange\n",
    "     - create a Fahrenheit to Celsius converter, with user input\n",
    "     - create a Celsius to Fahrenheit converter, with user input\n",
    "     - combine the calculators into one, and allow the user to choose which conversion to do (hint: you'll need to use an if statement).\n",
    " "
   ]
  },
  {
   "cell_type": "code",
   "execution_count": 1,
   "metadata": {},
   "outputs": [],
   "source": [
    "import math"
   ]
  },
  {
   "cell_type": "code",
   "execution_count": 2,
   "metadata": {},
   "outputs": [
    {
     "data": {
      "text/plain": [
       "3.141592653589793"
      ]
     },
     "execution_count": 2,
     "metadata": {},
     "output_type": "execute_result"
    }
   ],
   "source": [
    "math.pi"
   ]
  },
  {
   "cell_type": "code",
   "execution_count": 3,
   "metadata": {},
   "outputs": [
    {
     "name": "stdout",
     "output_type": "stream",
     "text": [
      "Please enter r20\n",
      "20 mm\n"
     ]
    }
   ],
   "source": [
    "r = input(\"Please enter r\")\n",
    "print ((r),\"mm\")"
   ]
  },
  {
   "cell_type": "code",
   "execution_count": 4,
   "metadata": {},
   "outputs": [
    {
     "name": "stdout",
     "output_type": "stream",
     "text": [
      "S_V =   33510.32163829113 mm\n"
     ]
    }
   ],
   "source": [
    "sph_vol=(4/3)*(math.pi)*(int(r)**3)\n",
    "print(\"S_V =  \",(sph_vol),\"mm\")"
   ]
  },
  {
   "cell_type": "raw",
   "metadata": {},
   "source": [
    "Volume of Cylinder (πr*2h)"
   ]
  },
  {
   "cell_type": "code",
   "execution_count": 5,
   "metadata": {},
   "outputs": [
    {
     "name": "stdout",
     "output_type": "stream",
     "text": [
      "Please enter r20\n",
      "20 mm\n"
     ]
    }
   ],
   "source": [
    "r = input(\"Please enter r\")\n",
    "print ((r), \"mm\")"
   ]
  },
  {
   "cell_type": "code",
   "execution_count": 7,
   "metadata": {},
   "outputs": [
    {
     "name": "stdout",
     "output_type": "stream",
     "text": [
      "Please enter h30\n",
      "30 mm\n"
     ]
    }
   ],
   "source": [
    "h = input(\"Please enter h\")\n",
    "print ((h), \"m\")"
   ]
  },
  {
   "cell_type": "code",
   "execution_count": 8,
   "metadata": {
    "scrolled": true
   },
   "outputs": [
    {
     "name": "stdout",
     "output_type": "stream",
     "text": [
      "C_V =  37699.11184307752 mm\n"
     ]
    }
   ],
   "source": [
    "cyl_vol=(math.pi)*(int(r)**2)*(int(h))\n",
    "print(\"C_V = \",(cyl_vol), \"mm\")"
   ]
  },
  {
   "cell_type": "code",
   "execution_count": null,
   "metadata": {},
   "outputs": [],
   "source": [
    " Volume of a Cone (πr*2h/3)"
   ]
  },
  {
   "cell_type": "code",
   "execution_count": 9,
   "metadata": {},
   "outputs": [
    {
     "name": "stdout",
     "output_type": "stream",
     "text": [
      "Please enter r4\n",
      "4 mm\n"
     ]
    }
   ],
   "source": [
    "r = input(\"Please enter r\")\n",
    "print ((r), \"mm\")"
   ]
  },
  {
   "cell_type": "code",
   "execution_count": 10,
   "metadata": {},
   "outputs": [
    {
     "name": "stdout",
     "output_type": "stream",
     "text": [
      "Please enter h10\n",
      "10 m\n"
     ]
    }
   ],
   "source": [
    "h = input(\"Please enter h\")\n",
    "print ((h), \"m\")"
   ]
  },
  {
   "cell_type": "code",
   "execution_count": 12,
   "metadata": {},
   "outputs": [
    {
     "name": "stdout",
     "output_type": "stream",
     "text": [
      "CON_V =  167.55160819145564 mm\n"
     ]
    }
   ],
   "source": [
    "con_vol=(math.pi)*(int(r)**2)*(int(h)/3)\n",
    "print(\"CON_Vol = \",(con_vol), \"mm\")"
   ]
  },
  {
   "cell_type": "code",
   "execution_count": null,
   "metadata": {},
   "outputs": [],
   "source": [
    "   Fuel Efficiency"
   ]
  },
  {
   "cell_type": "code",
   "execution_count": 18,
   "metadata": {},
   "outputs": [
    {
     "name": "stdout",
     "output_type": "stream",
     "text": [
      "Please enter distance travelled in km500\n",
      "Please enter amount of fuel used20\n"
     ]
    }
   ],
   "source": [
    "dist= input(\"Please enter distance travelled in km\")\n",
    "fuel= input(\"Please enter amount of fuel used\")\n",
    "dist=int(dist)\n",
    "fuel=int(fuel)"
   ]
  },
  {
   "cell_type": "code",
   "execution_count": 20,
   "metadata": {},
   "outputs": [
    {
     "name": "stdout",
     "output_type": "stream",
     "text": [
      "fuel efficiency of car =  4.0 %km\n"
     ]
    }
   ],
   "source": [
    "eff = (int(fuel))/(int(dist))*100\n",
    "print (\"fuel efficiency of car = \",(eff), \"%km\")"
   ]
  },
  {
   "cell_type": "code",
   "execution_count": null,
   "metadata": {},
   "outputs": [],
   "source": [
    "   Temperature (Fahrenheit to Celsius converter)"
   ]
  },
  {
   "cell_type": "code",
   "execution_count": 2,
   "metadata": {
    "scrolled": true
   },
   "outputs": [
    {
     "name": "stdout",
     "output_type": "stream",
     "text": [
      "Please enter Fahrenheit52\n"
     ]
    }
   ],
   "source": [
    "Fa = input(\"Please enter Fahrenheit\")\n",
    "Fa = int(Fa)"
   ]
  },
  {
   "cell_type": "code",
   "execution_count": 3,
   "metadata": {},
   "outputs": [
    {
     "name": "stdout",
     "output_type": "stream",
     "text": [
      "Celsius =  11.11111111111111 °C\n"
     ]
    }
   ],
   "source": [
    "Cel = ((int(Fa))-32)*(5/9)\n",
    "print(\"Celsius = \",(Cel),\"°C\")"
   ]
  },
  {
   "cell_type": "code",
   "execution_count": null,
   "metadata": {},
   "outputs": [],
   "source": [
    "  Temperture 2 (Celsius to Fahrenheit Converter)"
   ]
  },
  {
   "cell_type": "code",
   "execution_count": 4,
   "metadata": {},
   "outputs": [
    {
     "name": "stdout",
     "output_type": "stream",
     "text": [
      "Please enter Celsius11\n"
     ]
    }
   ],
   "source": [
    "Cal = input(\"Please enter Celsius\")\n",
    "Cal = int(Cal)"
   ]
  },
  {
   "cell_type": "code",
   "execution_count": 5,
   "metadata": {},
   "outputs": [
    {
     "name": "stdout",
     "output_type": "stream",
     "text": [
      "Fahrenheit =  38.111111111111114 °F\n"
     ]
    }
   ],
   "source": [
    "Fa = ((int(Cal))*(5/9)+32)\n",
    "print(\"Fahrenheit = \",(Fa),\"°F\")"
   ]
  },
  {
   "cell_type": "code",
   "execution_count": null,
   "metadata": {},
   "outputs": [],
   "source": []
  },
  {
   "cell_type": "markdown",
   "metadata": {},
   "source": [
    "## For Next Week....\n",
    "\n",
    " - Read Intro and Chapter 1, Python Basics of “Automate the Boring Stuff” (see resources)\n",
    " - Install Python 3.6, Anaconda on your own machine (if you want.. I can help if there are issues)\n",
    " - Self-directed learning:\n",
    "     - Clear out the unnecessary text and leave only the exercises and your solutions from your own Jupyter file\n",
    "     - Type up an introduction to who you are and why you have chosen to pursue GIS studies/as a career path\n",
    "     - Write three key features of Python that make it one of the most popular languages for programming. What problems has Python faced as a language and ecosystem? What major software/applications are built on Python (name 3 not mentioned already)? What relationship does it have with GIS (not mentioned already)?\n",
    "     - Identify 2 examples of types of data that is useful for a GIS task\n",
    "     - Identify a project that used computer programming to help solve a GIS task (that we wont cover today)\n",
    "     - Save this file as ‘week1.txt’ and upload to your github account (or type / copy and paste into a new file on github directly) in your DT9420 repo.\n",
    "     - Format and sort your Jupyter Notebook into a logical order starting with your introduction"
   ]
  }
 ],
 "metadata": {
  "kernelspec": {
   "display_name": "Python 3",
   "language": "python",
   "name": "python3"
  },
  "language_info": {
   "codemirror_mode": {
    "name": "ipython",
    "version": 3
   },
   "file_extension": ".py",
   "mimetype": "text/x-python",
   "name": "python",
   "nbconvert_exporter": "python",
   "pygments_lexer": "ipython3",
   "version": "3.7.3"
  }
 },
 "nbformat": 4,
 "nbformat_minor": 1
}
